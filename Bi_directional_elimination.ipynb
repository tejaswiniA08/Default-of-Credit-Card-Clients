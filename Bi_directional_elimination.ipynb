{
 "cells": [
  {
   "cell_type": "markdown",
   "id": "1c97562c",
   "metadata": {},
   "source": [
    "<center> <h1> Introduction to Data Science Phase 2 Project</h1></center>\n",
    "<center> <h2> Group 6 </h2> </center>\n",
    "\n",
    "<table>\n",
    "<tr>\n",
    "<th>Name\n",
    "<th>ID\n",
    "<th>Email\n",
    "</tr>\n",
    "</tr><tr>\n",
    "<td><h3>Naga Venkata Siva Tejaswini Anguluri\n",
    "<td><h3><b>2202760\n",
    "<td><h3>nangulur@cougarnet.uh.edu\n",
    "</tr><tr>\n",
    "<td><h3>Sameer Shaik\n",
    "<td><h3><b>2295647\n",
    "<td><h3>sshaik6@cougarnet.uh.edu\n",
    "<tr>\n",
    "<td><h3>Goutham Reddy Kasireddy\n",
    "<td><h3><b>2279917\n",
    "<td><h3>gkasired@cougarnet.uh.edu\n",
    "</tr>\n",
    "<tr>\n",
    "<td><h3>Suguna Chandana Sibbena\n",
    "<td><h3><b>2311362\n",
    "<td><h3>ssibbena@cougarnet.uh.edu\n",
    "</tr>\n",
    "<tr>\n",
    "<td><h3>Prudhvi Kolla\n",
    "<td><h3><b>2310127\n",
    "<td><h3>pkolla@cougarnet.uh.edu\n",
    "</tr>\n",
    "</table>\n",
    "  "
   ]
  },
  {
   "cell_type": "code",
   "execution_count": 1,
   "id": "2983e35e",
   "metadata": {},
   "outputs": [],
   "source": [
    "#importing the required libraries\n",
    "import pandas as pd\n",
    "import numpy as np\n",
    "import seaborn as sns\n",
    "from sklearn.metrics import accuracy_score, precision_score, recall_score, f1_score, confusion_matrix, classification_report\n",
    "from sklearn.preprocessing import StandardScaler\n",
    "import matplotlib.pyplot as plt\n",
    "from sklearn.model_selection import train_test_split"
   ]
  },
  {
   "cell_type": "code",
   "execution_count": 2,
   "id": "82961e01",
   "metadata": {},
   "outputs": [],
   "source": [
    "#reading csv file\n",
    "#imported the dataset that is being cleaned in phase1\n",
    "df = pd.read_csv('creditcards_new.csv')"
   ]
  },
  {
   "cell_type": "code",
   "execution_count": 3,
   "id": "1493a823",
   "metadata": {},
   "outputs": [],
   "source": [
    "#OneHotencoding for Categorical variables\n",
    "df= pd.get_dummies(df, columns=['Sex','Marriage','Education'])"
   ]
  },
  {
   "cell_type": "code",
   "execution_count": 4,
   "id": "22e08e69",
   "metadata": {},
   "outputs": [],
   "source": [
    "X_new = df[['Age','Limit_Balance', 'Sex_1', 'Sex_2', 'Marriage_1',\n",
    "       'Marriage_2', 'Marriage_3', 'Education_1', 'Education_2', 'Education_3',\n",
    "       'Education_4', 'Pay_1', 'Pay_2', 'Pay_3', 'Pay_4',\n",
    "       'Pay_5', 'Pay_6', 'Bill_Amount1', 'Bill_Amount2', 'Bill_Amount3', 'Bill_Amount4', 'Bill_Amount5', 'Bill_Amount6', 'Pay_Amount1', 'Pay_Amount2',\n",
    "       'Pay_Amount3', 'Pay_Amount4','Pay_Amount5', 'Pay_Amount6']]\n",
    "y_new = df['Default_Payment_Next_Month']"
   ]
  },
  {
   "cell_type": "code",
   "execution_count": 5,
   "id": "cd049f14",
   "metadata": {},
   "outputs": [],
   "source": [
    "df_new = pd.DataFrame(X_new, columns = ('Age','Limit_Balance', 'Sex_1', 'Sex_2', 'Marriage_1',\n",
    "       'Marriage_2', 'Marriage_3', 'Education_1', 'Education_2', 'Education_3',\n",
    "       'Education_4', 'Pay_1', 'Pay_2', 'Pay_3', 'Pay_4',\n",
    "       'Pay_5', 'Pay_6', 'Bill_Amount1', 'Bill_Amount2', 'Bill_Amount3', 'Bill_Amount4', 'Bill_Amount5', 'Bill_Amount6', 'Pay_Amount1', 'Pay_Amount2',\n",
    "       'Pay_Amount3', 'Pay_Amount4','Pay_Amount5', 'Pay_Amount6'))"
   ]
  },
  {
   "cell_type": "code",
   "execution_count": 6,
   "id": "862712c1",
   "metadata": {},
   "outputs": [],
   "source": [
    "#dividing into testing and training sets\n",
    "X_train_en, X_test_en, y_train_en, y_test_en = train_test_split(X_new, y_new, test_size=0.2, random_state=43)"
   ]
  },
  {
   "cell_type": "code",
   "execution_count": 7,
   "id": "7ffa99f3",
   "metadata": {},
   "outputs": [
    {
     "data": {
      "text/plain": [
       "0    22966\n",
       "1     6599\n",
       "Name: Default_Payment_Next_Month, dtype: int64"
      ]
     },
     "execution_count": 7,
     "metadata": {},
     "output_type": "execute_result"
    }
   ],
   "source": [
    "df['Default_Payment_Next_Month'].value_counts()"
   ]
  },
  {
   "cell_type": "code",
   "execution_count": 8,
   "id": "26e7ba8f",
   "metadata": {},
   "outputs": [],
   "source": [
    "#Oversampling to handle imbalanced dataset \n",
    "from imblearn.over_sampling import SMOTE\n",
    "smote = SMOTE(sampling_strategy='auto', random_state=42)\n",
    "X_train_en_smote, y_train_en_smote = smote.fit_resample(X_train_en, y_train_en)"
   ]
  },
  {
   "cell_type": "markdown",
   "id": "7b8eb6f4",
   "metadata": {},
   "source": [
    "#### Best Model from step1 and step3 is Random Forest"
   ]
  },
  {
   "cell_type": "markdown",
   "id": "68642952",
   "metadata": {},
   "source": [
    "Bi-directional elimination: This method uses both forward selection and backward elimination techniques simultaneously to reach one unique solution. In this project, bidirectional elimination is used for variable selection to the best model obtained from before and after hyperparameter tuning.\n"
   ]
  },
  {
   "cell_type": "code",
   "execution_count": 9,
   "id": "61c3e140",
   "metadata": {},
   "outputs": [],
   "source": [
    "#Using SFS to select features\n",
    "from mlxtend.feature_selection import SequentialFeatureSelector\n",
    "from sklearn.ensemble import RandomForestClassifier\n",
    "sfs = SequentialFeatureSelector(RandomForestClassifier(max_depth=20, min_samples_leaf=2, min_samples_split=5, n_estimators=100),\n",
    "                                k_features=(6, 10),\n",
    "                                forward=True,\n",
    "                                floating=False,\n",
    "                                scoring='accuracy',\n",
    "                                cv=0)"
   ]
  },
  {
   "cell_type": "code",
   "execution_count": 10,
   "id": "5ecd298b",
   "metadata": {},
   "outputs": [
    {
     "data": {
      "text/html": [
       "<style>#sk-container-id-1 {color: black;background-color: white;}#sk-container-id-1 pre{padding: 0;}#sk-container-id-1 div.sk-toggleable {background-color: white;}#sk-container-id-1 label.sk-toggleable__label {cursor: pointer;display: block;width: 100%;margin-bottom: 0;padding: 0.3em;box-sizing: border-box;text-align: center;}#sk-container-id-1 label.sk-toggleable__label-arrow:before {content: \"▸\";float: left;margin-right: 0.25em;color: #696969;}#sk-container-id-1 label.sk-toggleable__label-arrow:hover:before {color: black;}#sk-container-id-1 div.sk-estimator:hover label.sk-toggleable__label-arrow:before {color: black;}#sk-container-id-1 div.sk-toggleable__content {max-height: 0;max-width: 0;overflow: hidden;text-align: left;background-color: #f0f8ff;}#sk-container-id-1 div.sk-toggleable__content pre {margin: 0.2em;color: black;border-radius: 0.25em;background-color: #f0f8ff;}#sk-container-id-1 input.sk-toggleable__control:checked~div.sk-toggleable__content {max-height: 200px;max-width: 100%;overflow: auto;}#sk-container-id-1 input.sk-toggleable__control:checked~label.sk-toggleable__label-arrow:before {content: \"▾\";}#sk-container-id-1 div.sk-estimator input.sk-toggleable__control:checked~label.sk-toggleable__label {background-color: #d4ebff;}#sk-container-id-1 div.sk-label input.sk-toggleable__control:checked~label.sk-toggleable__label {background-color: #d4ebff;}#sk-container-id-1 input.sk-hidden--visually {border: 0;clip: rect(1px 1px 1px 1px);clip: rect(1px, 1px, 1px, 1px);height: 1px;margin: -1px;overflow: hidden;padding: 0;position: absolute;width: 1px;}#sk-container-id-1 div.sk-estimator {font-family: monospace;background-color: #f0f8ff;border: 1px dotted black;border-radius: 0.25em;box-sizing: border-box;margin-bottom: 0.5em;}#sk-container-id-1 div.sk-estimator:hover {background-color: #d4ebff;}#sk-container-id-1 div.sk-parallel-item::after {content: \"\";width: 100%;border-bottom: 1px solid gray;flex-grow: 1;}#sk-container-id-1 div.sk-label:hover label.sk-toggleable__label {background-color: #d4ebff;}#sk-container-id-1 div.sk-serial::before {content: \"\";position: absolute;border-left: 1px solid gray;box-sizing: border-box;top: 0;bottom: 0;left: 50%;z-index: 0;}#sk-container-id-1 div.sk-serial {display: flex;flex-direction: column;align-items: center;background-color: white;padding-right: 0.2em;padding-left: 0.2em;position: relative;}#sk-container-id-1 div.sk-item {position: relative;z-index: 1;}#sk-container-id-1 div.sk-parallel {display: flex;align-items: stretch;justify-content: center;background-color: white;position: relative;}#sk-container-id-1 div.sk-item::before, #sk-container-id-1 div.sk-parallel-item::before {content: \"\";position: absolute;border-left: 1px solid gray;box-sizing: border-box;top: 0;bottom: 0;left: 50%;z-index: -1;}#sk-container-id-1 div.sk-parallel-item {display: flex;flex-direction: column;z-index: 1;position: relative;background-color: white;}#sk-container-id-1 div.sk-parallel-item:first-child::after {align-self: flex-end;width: 50%;}#sk-container-id-1 div.sk-parallel-item:last-child::after {align-self: flex-start;width: 50%;}#sk-container-id-1 div.sk-parallel-item:only-child::after {width: 0;}#sk-container-id-1 div.sk-dashed-wrapped {border: 1px dashed gray;margin: 0 0.4em 0.5em 0.4em;box-sizing: border-box;padding-bottom: 0.4em;background-color: white;}#sk-container-id-1 div.sk-label label {font-family: monospace;font-weight: bold;display: inline-block;line-height: 1.2em;}#sk-container-id-1 div.sk-label-container {text-align: center;}#sk-container-id-1 div.sk-container {/* jupyter's `normalize.less` sets `[hidden] { display: none; }` but bootstrap.min.css set `[hidden] { display: none !important; }` so we also need the `!important` here to be able to override the default hidden behavior on the sphinx rendered scikit-learn.org. See: https://github.com/scikit-learn/scikit-learn/issues/21755 */display: inline-block !important;position: relative;}#sk-container-id-1 div.sk-text-repr-fallback {display: none;}</style><div id=\"sk-container-id-1\" class=\"sk-top-container\"><div class=\"sk-text-repr-fallback\"><pre>SequentialFeatureSelector(cv=0,\n",
       "                          estimator=RandomForestClassifier(max_depth=20,\n",
       "                                                           min_samples_leaf=2,\n",
       "                                                           min_samples_split=5),\n",
       "                          k_features=(6, 10), scoring=&#x27;accuracy&#x27;)</pre><b>In a Jupyter environment, please rerun this cell to show the HTML representation or trust the notebook. <br />On GitHub, the HTML representation is unable to render, please try loading this page with nbviewer.org.</b></div><div class=\"sk-container\" hidden><div class=\"sk-item sk-dashed-wrapped\"><div class=\"sk-label-container\"><div class=\"sk-label sk-toggleable\"><input class=\"sk-toggleable__control sk-hidden--visually\" id=\"sk-estimator-id-1\" type=\"checkbox\" ><label for=\"sk-estimator-id-1\" class=\"sk-toggleable__label sk-toggleable__label-arrow\">SequentialFeatureSelector</label><div class=\"sk-toggleable__content\"><pre>SequentialFeatureSelector(cv=0,\n",
       "                          estimator=RandomForestClassifier(max_depth=20,\n",
       "                                                           min_samples_leaf=2,\n",
       "                                                           min_samples_split=5),\n",
       "                          k_features=(6, 10), scoring=&#x27;accuracy&#x27;)</pre></div></div></div><div class=\"sk-parallel\"><div class=\"sk-parallel-item\"><div class=\"sk-item\"><div class=\"sk-label-container\"><div class=\"sk-label sk-toggleable\"><input class=\"sk-toggleable__control sk-hidden--visually\" id=\"sk-estimator-id-2\" type=\"checkbox\" ><label for=\"sk-estimator-id-2\" class=\"sk-toggleable__label sk-toggleable__label-arrow\">estimator: RandomForestClassifier</label><div class=\"sk-toggleable__content\"><pre>RandomForestClassifier(max_depth=20, min_samples_leaf=2, min_samples_split=5)</pre></div></div></div><div class=\"sk-serial\"><div class=\"sk-item\"><div class=\"sk-estimator sk-toggleable\"><input class=\"sk-toggleable__control sk-hidden--visually\" id=\"sk-estimator-id-3\" type=\"checkbox\" ><label for=\"sk-estimator-id-3\" class=\"sk-toggleable__label sk-toggleable__label-arrow\">RandomForestClassifier</label><div class=\"sk-toggleable__content\"><pre>RandomForestClassifier(max_depth=20, min_samples_leaf=2, min_samples_split=5)</pre></div></div></div></div></div></div></div></div></div></div>"
      ],
      "text/plain": [
       "SequentialFeatureSelector(cv=0,\n",
       "                          estimator=RandomForestClassifier(max_depth=20,\n",
       "                                                           min_samples_leaf=2,\n",
       "                                                           min_samples_split=5),\n",
       "                          k_features=(6, 10), scoring='accuracy')"
      ]
     },
     "execution_count": 10,
     "metadata": {},
     "output_type": "execute_result"
    }
   ],
   "source": [
    "sfs.fit(X_train_en_smote, y_train_en_smote)"
   ]
  },
  {
   "cell_type": "code",
   "execution_count": 11,
   "id": "48626ae9",
   "metadata": {},
   "outputs": [
    {
     "name": "stdout",
     "output_type": "stream",
     "text": [
      "Features Selected: (0, 1, 17, 22, 23, 24, 25, 26, 27, 28)\n"
     ]
    }
   ],
   "source": [
    "#indexes for selected features\n",
    "indx = sfs.k_feature_idx_\n",
    "print(\"Features Selected:\", sfs.k_feature_idx_)"
   ]
  },
  {
   "cell_type": "code",
   "execution_count": 12,
   "id": "0472e880",
   "metadata": {},
   "outputs": [],
   "source": [
    "indx_np = np.array(indx)"
   ]
  },
  {
   "cell_type": "code",
   "execution_count": 13,
   "id": "31fd1249",
   "metadata": {},
   "outputs": [
    {
     "data": {
      "text/plain": [
       "Index(['Age', 'Limit_Balance', 'Bill_Amount1', 'Bill_Amount6', 'Pay_Amount1',\n",
       "       'Pay_Amount2', 'Pay_Amount3', 'Pay_Amount4', 'Pay_Amount5',\n",
       "       'Pay_Amount6'],\n",
       "      dtype='object')"
      ]
     },
     "execution_count": 13,
     "metadata": {},
     "output_type": "execute_result"
    }
   ],
   "source": [
    "#Getting the selected feature names\n",
    "feature_names = df_new.columns[indx_np]\n",
    "feature_names"
   ]
  },
  {
   "cell_type": "markdown",
   "id": "12b0652d",
   "metadata": {},
   "source": [
    "Above are the best features obtained using bidirectional elimination."
   ]
  }
 ],
 "metadata": {
  "kernelspec": {
   "display_name": "Python 3 (ipykernel)",
   "language": "python",
   "name": "python3"
  },
  "language_info": {
   "codemirror_mode": {
    "name": "ipython",
    "version": 3
   },
   "file_extension": ".py",
   "mimetype": "text/x-python",
   "name": "python",
   "nbconvert_exporter": "python",
   "pygments_lexer": "ipython3",
   "version": "3.11.4"
  }
 },
 "nbformat": 4,
 "nbformat_minor": 5
}
