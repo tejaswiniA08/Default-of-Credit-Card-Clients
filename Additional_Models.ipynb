{
 "cells": [
  {
   "cell_type": "code",
   "execution_count": 1,
   "id": "2983e35e",
   "metadata": {},
   "outputs": [],
   "source": [
    "#importing the required libraries\n",
    "import pandas as pd\n",
    "import numpy as np\n",
    "import seaborn as sns\n",
    "from sklearn.metrics import accuracy_score, precision_score,recall_score, f1_score, confusion_matrix, classification_report\n",
    "from sklearn.preprocessing import MinMaxScaler, StandardScaler\n",
    "import matplotlib.pyplot as plt\n",
    "import warnings\n",
    "\n",
    "warnings.filterwarnings(\"ignore\")"
   ]
  },
  {
   "cell_type": "code",
   "execution_count": 2,
   "id": "82961e01",
   "metadata": {},
   "outputs": [],
   "source": [
    "#reading csv file\n",
    "#imported the dataset that is being cleaned in phase1\n",
    "df = pd.read_csv('creditcards_new.csv')"
   ]
  },
  {
   "cell_type": "code",
   "execution_count": 3,
   "id": "7f129e12",
   "metadata": {},
   "outputs": [],
   "source": [
    "df= pd.get_dummies(df, columns=['Sex','Marriage','Education'])"
   ]
  },
  {
   "cell_type": "code",
   "execution_count": 4,
   "id": "41b423fe",
   "metadata": {},
   "outputs": [],
   "source": [
    "X = df[['Limit_Balance', 'Age', 'Pay_1', 'Pay_2', 'Pay_3', 'Pay_4', 'Pay_5',\n",
    "       'Pay_6', 'Bill_Amount1', 'Bill_Amount2', 'Bill_Amount3', 'Bill_Amount4',\n",
    "       'Bill_Amount5', 'Bill_Amount6', 'Pay_Amount1', 'Pay_Amount2',\n",
    "       'Pay_Amount3', 'Pay_Amount4', 'Pay_Amount5', 'Pay_Amount6', 'Sex_1', 'Sex_2', 'Marriage_1',\n",
    "       'Marriage_2', 'Marriage_3', 'Education_1', 'Education_2',\n",
    "       'Education_3']]\n",
    "y = df['Default_Payment_Next_Month']"
   ]
  },
  {
   "cell_type": "code",
   "execution_count": 5,
   "id": "58bda817",
   "metadata": {},
   "outputs": [],
   "source": [
    "#testing and training set\n",
    "from sklearn.model_selection import train_test_split\n",
    "X_train, X_test, y_train, y_test = train_test_split(X,y, test_size=0.2, random_state=43)"
   ]
  },
  {
   "cell_type": "markdown",
   "id": "45653e77",
   "metadata": {},
   "source": [
    "### XG Boost"
   ]
  },
  {
   "cell_type": "markdown",
   "id": "a806ee1a",
   "metadata": {},
   "source": [
    "XGBoost is a highly efficient and flexible gradient boosting library used for optimal distributed processing. It is known for its speed, portability, and effectiveness in combining weak models to create a more robust predictive model. It can be used to solve Classification, Regression and user defined challenges."
   ]
  },
  {
   "cell_type": "markdown",
   "id": "c7b3629a",
   "metadata": {},
   "source": [
    "Ref: https://xgboost.readthedocs.io/en/stable/\n",
    "     https://www.simplilearn.com/what-is-xgboost-algorithm-in-machine-learning-article#:~:text=You%20can%20use%20XGBoost%20for,of%20your%20model%2Dbuilding%20process."
   ]
  },
  {
   "cell_type": "code",
   "execution_count": 6,
   "id": "9fc8cbb2",
   "metadata": {},
   "outputs": [
    {
     "data": {
      "text/html": [
       "<style>#sk-container-id-1 {color: black;background-color: white;}#sk-container-id-1 pre{padding: 0;}#sk-container-id-1 div.sk-toggleable {background-color: white;}#sk-container-id-1 label.sk-toggleable__label {cursor: pointer;display: block;width: 100%;margin-bottom: 0;padding: 0.3em;box-sizing: border-box;text-align: center;}#sk-container-id-1 label.sk-toggleable__label-arrow:before {content: \"▸\";float: left;margin-right: 0.25em;color: #696969;}#sk-container-id-1 label.sk-toggleable__label-arrow:hover:before {color: black;}#sk-container-id-1 div.sk-estimator:hover label.sk-toggleable__label-arrow:before {color: black;}#sk-container-id-1 div.sk-toggleable__content {max-height: 0;max-width: 0;overflow: hidden;text-align: left;background-color: #f0f8ff;}#sk-container-id-1 div.sk-toggleable__content pre {margin: 0.2em;color: black;border-radius: 0.25em;background-color: #f0f8ff;}#sk-container-id-1 input.sk-toggleable__control:checked~div.sk-toggleable__content {max-height: 200px;max-width: 100%;overflow: auto;}#sk-container-id-1 input.sk-toggleable__control:checked~label.sk-toggleable__label-arrow:before {content: \"▾\";}#sk-container-id-1 div.sk-estimator input.sk-toggleable__control:checked~label.sk-toggleable__label {background-color: #d4ebff;}#sk-container-id-1 div.sk-label input.sk-toggleable__control:checked~label.sk-toggleable__label {background-color: #d4ebff;}#sk-container-id-1 input.sk-hidden--visually {border: 0;clip: rect(1px 1px 1px 1px);clip: rect(1px, 1px, 1px, 1px);height: 1px;margin: -1px;overflow: hidden;padding: 0;position: absolute;width: 1px;}#sk-container-id-1 div.sk-estimator {font-family: monospace;background-color: #f0f8ff;border: 1px dotted black;border-radius: 0.25em;box-sizing: border-box;margin-bottom: 0.5em;}#sk-container-id-1 div.sk-estimator:hover {background-color: #d4ebff;}#sk-container-id-1 div.sk-parallel-item::after {content: \"\";width: 100%;border-bottom: 1px solid gray;flex-grow: 1;}#sk-container-id-1 div.sk-label:hover label.sk-toggleable__label {background-color: #d4ebff;}#sk-container-id-1 div.sk-serial::before {content: \"\";position: absolute;border-left: 1px solid gray;box-sizing: border-box;top: 0;bottom: 0;left: 50%;z-index: 0;}#sk-container-id-1 div.sk-serial {display: flex;flex-direction: column;align-items: center;background-color: white;padding-right: 0.2em;padding-left: 0.2em;position: relative;}#sk-container-id-1 div.sk-item {position: relative;z-index: 1;}#sk-container-id-1 div.sk-parallel {display: flex;align-items: stretch;justify-content: center;background-color: white;position: relative;}#sk-container-id-1 div.sk-item::before, #sk-container-id-1 div.sk-parallel-item::before {content: \"\";position: absolute;border-left: 1px solid gray;box-sizing: border-box;top: 0;bottom: 0;left: 50%;z-index: -1;}#sk-container-id-1 div.sk-parallel-item {display: flex;flex-direction: column;z-index: 1;position: relative;background-color: white;}#sk-container-id-1 div.sk-parallel-item:first-child::after {align-self: flex-end;width: 50%;}#sk-container-id-1 div.sk-parallel-item:last-child::after {align-self: flex-start;width: 50%;}#sk-container-id-1 div.sk-parallel-item:only-child::after {width: 0;}#sk-container-id-1 div.sk-dashed-wrapped {border: 1px dashed gray;margin: 0 0.4em 0.5em 0.4em;box-sizing: border-box;padding-bottom: 0.4em;background-color: white;}#sk-container-id-1 div.sk-label label {font-family: monospace;font-weight: bold;display: inline-block;line-height: 1.2em;}#sk-container-id-1 div.sk-label-container {text-align: center;}#sk-container-id-1 div.sk-container {/* jupyter's `normalize.less` sets `[hidden] { display: none; }` but bootstrap.min.css set `[hidden] { display: none !important; }` so we also need the `!important` here to be able to override the default hidden behavior on the sphinx rendered scikit-learn.org. See: https://github.com/scikit-learn/scikit-learn/issues/21755 */display: inline-block !important;position: relative;}#sk-container-id-1 div.sk-text-repr-fallback {display: none;}</style><div id=\"sk-container-id-1\" class=\"sk-top-container\"><div class=\"sk-text-repr-fallback\"><pre>XGBClassifier(base_score=None, booster=None, callbacks=None,\n",
       "              colsample_bylevel=None, colsample_bynode=None,\n",
       "              colsample_bytree=None, device=None, early_stopping_rounds=None,\n",
       "              enable_categorical=False, eval_metric=None, feature_types=None,\n",
       "              gamma=None, grow_policy=None, importance_type=None,\n",
       "              interaction_constraints=None, learning_rate=None, max_bin=None,\n",
       "              max_cat_threshold=None, max_cat_to_onehot=None,\n",
       "              max_delta_step=None, max_depth=None, max_leaves=None,\n",
       "              min_child_weight=None, missing=nan, monotone_constraints=None,\n",
       "              multi_strategy=None, n_estimators=None, n_jobs=None,\n",
       "              num_parallel_tree=None, random_state=None, ...)</pre><b>In a Jupyter environment, please rerun this cell to show the HTML representation or trust the notebook. <br />On GitHub, the HTML representation is unable to render, please try loading this page with nbviewer.org.</b></div><div class=\"sk-container\" hidden><div class=\"sk-item\"><div class=\"sk-estimator sk-toggleable\"><input class=\"sk-toggleable__control sk-hidden--visually\" id=\"sk-estimator-id-1\" type=\"checkbox\" checked><label for=\"sk-estimator-id-1\" class=\"sk-toggleable__label sk-toggleable__label-arrow\">XGBClassifier</label><div class=\"sk-toggleable__content\"><pre>XGBClassifier(base_score=None, booster=None, callbacks=None,\n",
       "              colsample_bylevel=None, colsample_bynode=None,\n",
       "              colsample_bytree=None, device=None, early_stopping_rounds=None,\n",
       "              enable_categorical=False, eval_metric=None, feature_types=None,\n",
       "              gamma=None, grow_policy=None, importance_type=None,\n",
       "              interaction_constraints=None, learning_rate=None, max_bin=None,\n",
       "              max_cat_threshold=None, max_cat_to_onehot=None,\n",
       "              max_delta_step=None, max_depth=None, max_leaves=None,\n",
       "              min_child_weight=None, missing=nan, monotone_constraints=None,\n",
       "              multi_strategy=None, n_estimators=None, n_jobs=None,\n",
       "              num_parallel_tree=None, random_state=None, ...)</pre></div></div></div></div></div>"
      ],
      "text/plain": [
       "XGBClassifier(base_score=None, booster=None, callbacks=None,\n",
       "              colsample_bylevel=None, colsample_bynode=None,\n",
       "              colsample_bytree=None, device=None, early_stopping_rounds=None,\n",
       "              enable_categorical=False, eval_metric=None, feature_types=None,\n",
       "              gamma=None, grow_policy=None, importance_type=None,\n",
       "              interaction_constraints=None, learning_rate=None, max_bin=None,\n",
       "              max_cat_threshold=None, max_cat_to_onehot=None,\n",
       "              max_delta_step=None, max_depth=None, max_leaves=None,\n",
       "              min_child_weight=None, missing=nan, monotone_constraints=None,\n",
       "              multi_strategy=None, n_estimators=None, n_jobs=None,\n",
       "              num_parallel_tree=None, random_state=None, ...)"
      ]
     },
     "execution_count": 6,
     "metadata": {},
     "output_type": "execute_result"
    }
   ],
   "source": [
    "from xgboost import XGBClassifier\n",
    "xgb = XGBClassifier()\n",
    "#fitting the model\n",
    "xgb.fit(X_train, y_train)"
   ]
  },
  {
   "cell_type": "markdown",
   "id": "ac51c2ba",
   "metadata": {},
   "source": [
    "pip install xgboost"
   ]
  },
  {
   "cell_type": "code",
   "execution_count": 7,
   "id": "ea1d035a",
   "metadata": {},
   "outputs": [],
   "source": [
    "#predicting the model\n",
    "y_pred = xgb.predict(X_test)"
   ]
  },
  {
   "cell_type": "code",
   "execution_count": 8,
   "id": "9e0dbcbc",
   "metadata": {},
   "outputs": [
    {
     "name": "stdout",
     "output_type": "stream",
     "text": [
      "Accuracy 0.8056823947234906\n",
      "Recall 0.8056823947234906\n",
      "F1 Score 0.7825127817489552\n"
     ]
    }
   ],
   "source": [
    "#performance metrics\n",
    "print(\"Accuracy\", accuracy_score(y_test, y_pred))\n",
    "print(\"Recall\", recall_score(y_test, y_pred, average='weighted'))\n",
    "print(\"F1 Score\", f1_score(y_test, y_pred, average='weighted'))"
   ]
  },
  {
   "cell_type": "code",
   "execution_count": 9,
   "id": "2b8faf88",
   "metadata": {},
   "outputs": [
    {
     "data": {
      "text/plain": [
       "array([[4318,  267],\n",
       "       [ 882,  446]])"
      ]
     },
     "execution_count": 9,
     "metadata": {},
     "output_type": "execute_result"
    }
   ],
   "source": [
    "#confusion matrix\n",
    "confusion_matrix(y_test,y_pred)"
   ]
  },
  {
   "cell_type": "code",
   "execution_count": 10,
   "id": "520f81d8",
   "metadata": {},
   "outputs": [
    {
     "name": "stdout",
     "output_type": "stream",
     "text": [
      "              precision    recall  f1-score   support\n",
      "\n",
      "           0       0.83      0.94      0.88      4585\n",
      "           1       0.63      0.34      0.44      1328\n",
      "\n",
      "    accuracy                           0.81      5913\n",
      "   macro avg       0.73      0.64      0.66      5913\n",
      "weighted avg       0.78      0.81      0.78      5913\n",
      "\n"
     ]
    }
   ],
   "source": [
    "#classification report\n",
    "print(classification_report(y_test,y_pred))"
   ]
  },
  {
   "cell_type": "markdown",
   "id": "db3320c5",
   "metadata": {},
   "source": [
    "### Extreme Machine Learning"
   ]
  },
  {
   "cell_type": "markdown",
   "id": "63c1726b",
   "metadata": {},
   "source": [
    "Extreme Machine Learning Model (MLP Classifier) is a machine learning paradigm that emphasizes fast and efficient training of neural networks. \n",
    "Unlike traditional methods, Extreme Machine Learning Model randomly assigns input weight and optimizes only the output weights, making it particularly suitable for large-scale and high-dimensional data.\n"
   ]
  },
  {
   "cell_type": "code",
   "execution_count": 11,
   "id": "5dd439c3",
   "metadata": {},
   "outputs": [],
   "source": [
    "#Oversampling to handle imbalanced dataset \n",
    "from imblearn.over_sampling import SMOTE\n",
    "smote = SMOTE(sampling_strategy='auto', random_state=42)\n",
    "X_train_sm, y_train_sm = smote.fit_resample(X_train, y_train)"
   ]
  },
  {
   "cell_type": "code",
   "execution_count": 12,
   "id": "393ee2ec",
   "metadata": {},
   "outputs": [],
   "source": [
    "#traing and validation sets\n",
    "X_train_, X_valid = X_train_sm[:30000], X_train_sm[30000:]\n",
    "y_train_, y_valid = y_train_sm[:30000], y_train_sm[30000:]"
   ]
  },
  {
   "cell_type": "code",
   "execution_count": 13,
   "id": "12fd38fb",
   "metadata": {},
   "outputs": [],
   "source": [
    "#Scaling the sets\n",
    "scaler = StandardScaler()\n",
    "X_train_scaled = scaler.fit_transform(X_train_)\n",
    "X_test_scaled = scaler.transform(X_test)\n",
    "X_valid_scaled = scaler.transform(X_valid)"
   ]
  },
  {
   "cell_type": "code",
   "execution_count": 14,
   "id": "386b19ed",
   "metadata": {},
   "outputs": [
    {
     "name": "stdout",
     "output_type": "stream",
     "text": [
      "Model: \"sequential\"\n",
      "_________________________________________________________________\n",
      " Layer (type)                Output Shape              Param #   \n",
      "=================================================================\n",
      " dense (Dense)               (None, 28, 28)            812       \n",
      "                                                                 \n",
      " dense_1 (Dense)             (None, 28, 16)            464       \n",
      "                                                                 \n",
      " dense_2 (Dense)             (None, 28, 16)            272       \n",
      "                                                                 \n",
      " dense_3 (Dense)             (None, 28, 1)             17        \n",
      "                                                                 \n",
      "=================================================================\n",
      "Total params: 1565 (6.11 KB)\n",
      "Trainable params: 1565 (6.11 KB)\n",
      "Non-trainable params: 0 (0.00 Byte)\n",
      "_________________________________________________________________\n"
     ]
    }
   ],
   "source": [
    "from keras.models import Sequential\n",
    "from keras.layers import Dense\n",
    "\n",
    "#Sequential model\n",
    "eml = Sequential()\n",
    "\n",
    "#First layer\n",
    "eml.add(Dense(28, activation='relu',input_shape=(28,28)))\n",
    "\n",
    "#Second layer\n",
    "eml.add(Dense(16, activation='relu'))\n",
    "\n",
    "#third layer\n",
    "eml.add(Dense(16, activation='sigmoid'))\n",
    "\n",
    "#fourth layer\n",
    "eml.add(Dense(units=1, activation='sigmoid'))\n",
    "\n",
    "# compiling the model\n",
    "eml.compile(optimizer='adam', loss='binary_crossentropy', metrics=['accuracy'])\n",
    "\n",
    "# Display the model summary\n",
    "eml.build()\n",
    "eml.summary()"
   ]
  },
  {
   "cell_type": "code",
   "execution_count": 15,
   "id": "6f40daec",
   "metadata": {},
   "outputs": [
    {
     "name": "stdout",
     "output_type": "stream",
     "text": [
      "Epoch 1/10\n",
      "1875/1875 [==============================] - 1s 682us/step - loss: 0.4520 - accuracy: 0.8023 - val_loss: 0.1741 - val_accuracy: 0.9093\n",
      "Epoch 2/10\n",
      "1875/1875 [==============================] - 1s 431us/step - loss: 0.3925 - accuracy: 0.8330 - val_loss: 0.1594 - val_accuracy: 0.9098\n",
      "Epoch 3/10\n",
      "1875/1875 [==============================] - 1s 432us/step - loss: 0.3868 - accuracy: 0.8351 - val_loss: 0.1758 - val_accuracy: 0.9120\n",
      "Epoch 4/10\n",
      "1875/1875 [==============================] - 1s 432us/step - loss: 0.3831 - accuracy: 0.8356 - val_loss: 0.1801 - val_accuracy: 0.9045\n",
      "Epoch 5/10\n",
      "1875/1875 [==============================] - 1s 465us/step - loss: 0.3817 - accuracy: 0.8374 - val_loss: 0.1750 - val_accuracy: 0.9045\n",
      "Epoch 6/10\n",
      "1875/1875 [==============================] - 1s 432us/step - loss: 0.3804 - accuracy: 0.8368 - val_loss: 0.1862 - val_accuracy: 0.9014\n",
      "Epoch 7/10\n",
      "1875/1875 [==============================] - 1s 434us/step - loss: 0.3793 - accuracy: 0.8378 - val_loss: 0.1558 - val_accuracy: 0.9153\n",
      "Epoch 8/10\n",
      "1875/1875 [==============================] - 1s 438us/step - loss: 0.3779 - accuracy: 0.8383 - val_loss: 0.1548 - val_accuracy: 0.9107\n",
      "Epoch 9/10\n",
      "1875/1875 [==============================] - 1s 433us/step - loss: 0.3766 - accuracy: 0.8381 - val_loss: 0.1541 - val_accuracy: 0.9153\n",
      "Epoch 10/10\n",
      "1875/1875 [==============================] - 1s 434us/step - loss: 0.3760 - accuracy: 0.8387 - val_loss: 0.1567 - val_accuracy: 0.9126\n"
     ]
    },
    {
     "data": {
      "text/plain": [
       "<keras.src.callbacks.History at 0x289e6c710>"
      ]
     },
     "execution_count": 15,
     "metadata": {},
     "output_type": "execute_result"
    }
   ],
   "source": [
    "#fitting the model\n",
    "eml.fit(X_train_scaled, y_train_, epochs=10, batch_size=16, validation_data=(X_valid_scaled, y_valid))\n"
   ]
  },
  {
   "cell_type": "code",
   "execution_count": 16,
   "id": "5b0a6c30",
   "metadata": {},
   "outputs": [
    {
     "name": "stdout",
     "output_type": "stream",
     "text": [
      "185/185 [==============================] - 0s 259us/step\n"
     ]
    }
   ],
   "source": [
    "y_pred=eml.predict(X_test_scaled)"
   ]
  },
  {
   "cell_type": "code",
   "execution_count": 17,
   "id": "8931b32c",
   "metadata": {},
   "outputs": [],
   "source": [
    "b_pred = (y_pred > 0.5).astype(int)"
   ]
  },
  {
   "cell_type": "code",
   "execution_count": 18,
   "id": "df873531",
   "metadata": {},
   "outputs": [
    {
     "name": "stdout",
     "output_type": "stream",
     "text": [
      "              precision    recall  f1-score   support\n",
      "\n",
      "           0       0.84      0.92      0.88      4585\n",
      "           1       0.61      0.41      0.49      1328\n",
      "\n",
      "    accuracy                           0.81      5913\n",
      "   macro avg       0.73      0.67      0.69      5913\n",
      "weighted avg       0.79      0.81      0.79      5913\n",
      "\n"
     ]
    }
   ],
   "source": [
    "#classification report\n",
    "from sklearn.metrics import classification_report\n",
    "\n",
    "print(classification_report(y_test, b_pred))"
   ]
  },
  {
   "cell_type": "code",
   "execution_count": 19,
   "id": "602129a6",
   "metadata": {},
   "outputs": [
    {
     "data": {
      "image/png": "[encoded data removed]",
      "text/plain": [
       "<Figure size 640x480 with 2 Axes>"
      ]
     },
     "metadata": {},
     "output_type": "display_data"
    }
   ],
   "source": [
    "import seaborn as sn\n",
    "#confusion matrix\n",
    "cm = confusion_matrix(y_test, b_pred)\n",
    "sn.heatmap(cm, annot=True, fmt='d',annot_kws={\"size\":15})\n",
    "plt.xlabel('Predicted', fontsize=10)\n",
    "plt.ylabel('Actual', fontsize=10);"
   ]
  },
  {
   "cell_type": "code",
   "execution_count": 20,
   "id": "935bcc01",
   "metadata": {},
   "outputs": [
    {
     "name": "stdout",
     "output_type": "stream",
     "text": [
      "Requirement already satisfied: keras in /Users/tejaswinianguluri/anaconda3/lib/python3.11/site-packages (2.15.0)\n",
      "Note: you may need to restart the kernel to use updated packages.\n"
     ]
    }
   ],
   "source": [
    "pip install keras"
   ]
  },
  {
   "cell_type": "code",
   "execution_count": 21,
   "id": "a61f7b60",
   "metadata": {},
   "outputs": [
    {
     "name": "stdout",
     "output_type": "stream",
     "text": [
      "Requirement already satisfied: tensorflow in /Users/tejaswinianguluri/anaconda3/lib/python3.11/site-packages (2.15.0)\n",
      "Requirement already satisfied: tensorflow-macos==2.15.0 in /Users/tejaswinianguluri/anaconda3/lib/python3.11/site-packages (from tensorflow) (2.15.0)\n",
      "Requirement already satisfied: absl-py>=1.0.0 in /Users/tejaswinianguluri/anaconda3/lib/python3.11/site-packages (from tensorflow-macos==2.15.0->tensorflow) (2.0.0)\n",
      "Requirement already satisfied: astunparse>=1.6.0 in /Users/tejaswinianguluri/anaconda3/lib/python3.11/site-packages (from tensorflow-macos==2.15.0->tensorflow) (1.6.3)\n",
      "Requirement already satisfied: flatbuffers>=23.5.26 in /Users/tejaswinianguluri/anaconda3/lib/python3.11/site-packages (from tensorflow-macos==2.15.0->tensorflow) (23.5.26)\n",
      "Requirement already satisfied: gast!=0.5.0,!=0.5.1,!=0.5.2,>=0.2.1 in /Users/tejaswinianguluri/anaconda3/lib/python3.11/site-packages (from tensorflow-macos==2.15.0->tensorflow) (0.5.4)\n",
      "Requirement already satisfied: google-pasta>=0.1.1 in /Users/tejaswinianguluri/anaconda3/lib/python3.11/site-packages (from tensorflow-macos==2.15.0->tensorflow) (0.2.0)\n",
      "Requirement already satisfied: h5py>=2.9.0 in /Users/tejaswinianguluri/anaconda3/lib/python3.11/site-packages (from tensorflow-macos==2.15.0->tensorflow) (3.7.0)\n",
      "Requirement already satisfied: libclang>=13.0.0 in /Users/tejaswinianguluri/anaconda3/lib/python3.11/site-packages (from tensorflow-macos==2.15.0->tensorflow) (16.0.6)\n",
      "Requirement already satisfied: ml-dtypes~=0.2.0 in /Users/tejaswinianguluri/anaconda3/lib/python3.11/site-packages (from tensorflow-macos==2.15.0->tensorflow) (0.2.0)\n",
      "Requirement already satisfied: numpy<2.0.0,>=1.23.5 in /Users/tejaswinianguluri/anaconda3/lib/python3.11/site-packages (from tensorflow-macos==2.15.0->tensorflow) (1.24.3)\n",
      "Requirement already satisfied: opt-einsum>=2.3.2 in /Users/tejaswinianguluri/anaconda3/lib/python3.11/site-packages (from tensorflow-macos==2.15.0->tensorflow) (3.3.0)\n",
      "Requirement already satisfied: packaging in /Users/tejaswinianguluri/anaconda3/lib/python3.11/site-packages (from tensorflow-macos==2.15.0->tensorflow) (23.0)\n",
      "Requirement already satisfied: protobuf!=4.21.0,!=4.21.1,!=4.21.2,!=4.21.3,!=4.21.4,!=4.21.5,<5.0.0dev,>=3.20.3 in /Users/tejaswinianguluri/anaconda3/lib/python3.11/site-packages (from tensorflow-macos==2.15.0->tensorflow) (4.23.4)\n",
      "Requirement already satisfied: setuptools in /Users/tejaswinianguluri/anaconda3/lib/python3.11/site-packages (from tensorflow-macos==2.15.0->tensorflow) (68.0.0)\n",
      "Requirement already satisfied: six>=1.12.0 in /Users/tejaswinianguluri/anaconda3/lib/python3.11/site-packages (from tensorflow-macos==2.15.0->tensorflow) (1.16.0)\n",
      "Requirement already satisfied: termcolor>=1.1.0 in /Users/tejaswinianguluri/anaconda3/lib/python3.11/site-packages (from tensorflow-macos==2.15.0->tensorflow) (2.3.0)\n",
      "Requirement already satisfied: typing-extensions>=3.6.6 in /Users/tejaswinianguluri/anaconda3/lib/python3.11/site-packages (from tensorflow-macos==2.15.0->tensorflow) (4.7.1)\n",
      "Requirement already satisfied: wrapt<1.15,>=1.11.0 in /Users/tejaswinianguluri/anaconda3/lib/python3.11/site-packages (from tensorflow-macos==2.15.0->tensorflow) (1.14.1)\n",
      "Requirement already satisfied: tensorflow-io-gcs-filesystem>=0.23.1 in /Users/tejaswinianguluri/anaconda3/lib/python3.11/site-packages (from tensorflow-macos==2.15.0->tensorflow) (0.34.0)\n",
      "Requirement already satisfied: grpcio<2.0,>=1.24.3 in /Users/tejaswinianguluri/anaconda3/lib/python3.11/site-packages (from tensorflow-macos==2.15.0->tensorflow) (1.59.0)\n",
      "Requirement already satisfied: tensorboard<2.16,>=2.15 in /Users/tejaswinianguluri/anaconda3/lib/python3.11/site-packages (from tensorflow-macos==2.15.0->tensorflow) (2.15.1)\n",
      "Requirement already satisfied: tensorflow-estimator<2.16,>=2.15.0 in /Users/tejaswinianguluri/anaconda3/lib/python3.11/site-packages (from tensorflow-macos==2.15.0->tensorflow) (2.15.0)\n",
      "Requirement already satisfied: keras<2.16,>=2.15.0 in /Users/tejaswinianguluri/anaconda3/lib/python3.11/site-packages (from tensorflow-macos==2.15.0->tensorflow) (2.15.0)\n",
      "Requirement already satisfied: wheel<1.0,>=0.23.0 in /Users/tejaswinianguluri/anaconda3/lib/python3.11/site-packages (from astunparse>=1.6.0->tensorflow-macos==2.15.0->tensorflow) (0.38.4)\n",
      "Requirement already satisfied: google-auth<3,>=1.6.3 in /Users/tejaswinianguluri/anaconda3/lib/python3.11/site-packages (from tensorboard<2.16,>=2.15->tensorflow-macos==2.15.0->tensorflow) (2.23.2)\n",
      "Requirement already satisfied: google-auth-oauthlib<2,>=0.5 in /Users/tejaswinianguluri/anaconda3/lib/python3.11/site-packages (from tensorboard<2.16,>=2.15->tensorflow-macos==2.15.0->tensorflow) (1.0.0)\n",
      "Requirement already satisfied: markdown>=2.6.8 in /Users/tejaswinianguluri/anaconda3/lib/python3.11/site-packages (from tensorboard<2.16,>=2.15->tensorflow-macos==2.15.0->tensorflow) (3.4.1)\n",
      "Requirement already satisfied: requests<3,>=2.21.0 in /Users/tejaswinianguluri/anaconda3/lib/python3.11/site-packages (from tensorboard<2.16,>=2.15->tensorflow-macos==2.15.0->tensorflow) (2.31.0)\n",
      "Requirement already satisfied: tensorboard-data-server<0.8.0,>=0.7.0 in /Users/tejaswinianguluri/anaconda3/lib/python3.11/site-packages (from tensorboard<2.16,>=2.15->tensorflow-macos==2.15.0->tensorflow) (0.7.1)\n",
      "Requirement already satisfied: werkzeug>=1.0.1 in /Users/tejaswinianguluri/anaconda3/lib/python3.11/site-packages (from tensorboard<2.16,>=2.15->tensorflow-macos==2.15.0->tensorflow) (2.2.3)\n",
      "Requirement already satisfied: cachetools<6.0,>=2.0.0 in /Users/tejaswinianguluri/anaconda3/lib/python3.11/site-packages (from google-auth<3,>=1.6.3->tensorboard<2.16,>=2.15->tensorflow-macos==2.15.0->tensorflow) (5.3.1)\n",
      "Requirement already satisfied: pyasn1-modules>=0.2.1 in /Users/tejaswinianguluri/anaconda3/lib/python3.11/site-packages (from google-auth<3,>=1.6.3->tensorboard<2.16,>=2.15->tensorflow-macos==2.15.0->tensorflow) (0.2.8)\n",
      "Requirement already satisfied: rsa<5,>=3.1.4 in /Users/tejaswinianguluri/anaconda3/lib/python3.11/site-packages (from google-auth<3,>=1.6.3->tensorboard<2.16,>=2.15->tensorflow-macos==2.15.0->tensorflow) (4.9)\n",
      "Requirement already satisfied: requests-oauthlib>=0.7.0 in /Users/tejaswinianguluri/anaconda3/lib/python3.11/site-packages (from google-auth-oauthlib<2,>=0.5->tensorboard<2.16,>=2.15->tensorflow-macos==2.15.0->tensorflow) (1.3.1)\n",
      "Requirement already satisfied: charset-normalizer<4,>=2 in /Users/tejaswinianguluri/anaconda3/lib/python3.11/site-packages (from requests<3,>=2.21.0->tensorboard<2.16,>=2.15->tensorflow-macos==2.15.0->tensorflow) (2.0.4)\n",
      "Requirement already satisfied: idna<4,>=2.5 in /Users/tejaswinianguluri/anaconda3/lib/python3.11/site-packages (from requests<3,>=2.21.0->tensorboard<2.16,>=2.15->tensorflow-macos==2.15.0->tensorflow) (3.4)\n",
      "Requirement already satisfied: urllib3<3,>=1.21.1 in /Users/tejaswinianguluri/anaconda3/lib/python3.11/site-packages (from requests<3,>=2.21.0->tensorboard<2.16,>=2.15->tensorflow-macos==2.15.0->tensorflow) (1.26.16)\n",
      "Requirement already satisfied: certifi>=2017.4.17 in /Users/tejaswinianguluri/anaconda3/lib/python3.11/site-packages (from requests<3,>=2.21.0->tensorboard<2.16,>=2.15->tensorflow-macos==2.15.0->tensorflow) (2023.7.22)\n",
      "Requirement already satisfied: MarkupSafe>=2.1.1 in /Users/tejaswinianguluri/anaconda3/lib/python3.11/site-packages (from werkzeug>=1.0.1->tensorboard<2.16,>=2.15->tensorflow-macos==2.15.0->tensorflow) (2.1.1)\n",
      "Requirement already satisfied: pyasn1<0.5.0,>=0.4.6 in /Users/tejaswinianguluri/anaconda3/lib/python3.11/site-packages (from pyasn1-modules>=0.2.1->google-auth<3,>=1.6.3->tensorboard<2.16,>=2.15->tensorflow-macos==2.15.0->tensorflow) (0.4.8)\n",
      "Requirement already satisfied: oauthlib>=3.0.0 in /Users/tejaswinianguluri/anaconda3/lib/python3.11/site-packages (from requests-oauthlib>=0.7.0->google-auth-oauthlib<2,>=0.5->tensorboard<2.16,>=2.15->tensorflow-macos==2.15.0->tensorflow) (3.2.2)\n",
      "Note: you may need to restart the kernel to use updated packages.\n"
     ]
    }
   ],
   "source": [
    "pip install --upgrade tensorflow"
   ]
  },
  {
   "cell_type": "markdown",
   "id": "1b1846f6",
   "metadata": {},
   "source": [
    "### Deeplearning with 2 layers"
   ]
  },
  {
   "cell_type": "markdown",
   "id": "f11ce5eb",
   "metadata": {},
   "source": [
    "Deep learning may overcome some of the challenges faced by machine learning algorithms, especially in handling unsupervised learning tasks involving transcribing images or texts. Some of the major issues faced while solving deep learning problems include large amounts of data and high computational power. Applications of deep learning include self-driving cars, image recognition, and speech recognition."
   ]
  },
  {
   "cell_type": "markdown",
   "id": "87e6440b",
   "metadata": {},
   "source": [
    "Ref: https://aws.amazon.com/what-is/deep-learning/#:~:text=Deep%20learning%20is%20a%20method,produce%20accurate%20insights%20and%20predictions.\n",
    "https://www.mathworks.com/discovery/deep-learning.html\n"
   ]
  },
  {
   "cell_type": "code",
   "execution_count": 22,
   "id": "1281c2df",
   "metadata": {},
   "outputs": [
    {
     "data": {
      "text/plain": [
       "(23652, 28)"
      ]
     },
     "execution_count": 22,
     "metadata": {},
     "output_type": "execute_result"
    }
   ],
   "source": [
    "#shape of X_train \n",
    "X_train.shape"
   ]
  },
  {
   "cell_type": "code",
   "execution_count": 23,
   "id": "81d9bd0e",
   "metadata": {},
   "outputs": [
    {
     "data": {
      "text/plain": [
       "(30000, 28)"
      ]
     },
     "execution_count": 23,
     "metadata": {},
     "output_type": "execute_result"
    }
   ],
   "source": [
    "X_train_.shape"
   ]
  },
  {
   "cell_type": "code",
   "execution_count": 24,
   "id": "75d196af",
   "metadata": {},
   "outputs": [
    {
     "name": "stdout",
     "output_type": "stream",
     "text": [
      "Model: \"sequential_1\"\n",
      "_________________________________________________________________\n",
      " Layer (type)                Output Shape              Param #   \n",
      "=================================================================\n",
      " dense_4 (Dense)             (None, 28, 28)            812       \n",
      "                                                                 \n",
      " dense_5 (Dense)             (None, 28, 1)             29        \n",
      "                                                                 \n",
      "=================================================================\n",
      "Total params: 841 (3.29 KB)\n",
      "Trainable params: 841 (3.29 KB)\n",
      "Non-trainable params: 0 (0.00 Byte)\n",
      "_________________________________________________________________\n"
     ]
    }
   ],
   "source": [
    "from keras.models import Sequential\n",
    "from keras.layers import Dense\n",
    "\n",
    "#Sequential model\n",
    "modl = Sequential()\n",
    "\n",
    "#First layer\n",
    "modl.add(Dense(28, activation='relu',input_shape=(28,28)))\n",
    "\n",
    "#Second layer\n",
    "modl.add(Dense(1, activation='sigmoid'))\n",
    "\n",
    "# compiling the model\n",
    "modl.compile(optimizer='adam', loss='binary_crossentropy', metrics=['accuracy'])\n",
    "\n",
    "# Display the model summary\n",
    "modl.build()\n",
    "modl.summary()"
   ]
  },
  {
   "cell_type": "code",
   "execution_count": 25,
   "id": "bbbf5fff",
   "metadata": {},
   "outputs": [
    {
     "name": "stdout",
     "output_type": "stream",
     "text": [
      "Epoch 1/10\n",
      "938/938 [==============================] - 1s 446us/step - loss: 0.4784 - accuracy: 0.7935 - val_loss: 0.2565 - val_accuracy: 0.8900\n",
      "Epoch 2/10\n",
      "938/938 [==============================] - 0s 394us/step - loss: 0.4041 - accuracy: 0.8314 - val_loss: 0.1877 - val_accuracy: 0.9045\n",
      "Epoch 3/10\n",
      "938/938 [==============================] - 0s 394us/step - loss: 0.3939 - accuracy: 0.8350 - val_loss: 0.1796 - val_accuracy: 0.9031\n",
      "Epoch 4/10\n",
      "938/938 [==============================] - 0s 394us/step - loss: 0.3892 - accuracy: 0.8352 - val_loss: 0.1941 - val_accuracy: 0.8962\n",
      "Epoch 5/10\n",
      "938/938 [==============================] - 0s 398us/step - loss: 0.3866 - accuracy: 0.8373 - val_loss: 0.1657 - val_accuracy: 0.9070\n",
      "Epoch 6/10\n",
      "938/938 [==============================] - 0s 409us/step - loss: 0.3846 - accuracy: 0.8374 - val_loss: 0.1604 - val_accuracy: 0.9074\n",
      "Epoch 7/10\n",
      "938/938 [==============================] - 0s 453us/step - loss: 0.3834 - accuracy: 0.8365 - val_loss: 0.1810 - val_accuracy: 0.9018\n",
      "Epoch 8/10\n",
      "938/938 [==============================] - 1s 595us/step - loss: 0.3821 - accuracy: 0.8370 - val_loss: 0.1627 - val_accuracy: 0.9039\n",
      "Epoch 9/10\n",
      "938/938 [==============================] - 1s 647us/step - loss: 0.3813 - accuracy: 0.8372 - val_loss: 0.1684 - val_accuracy: 0.9014\n",
      "Epoch 10/10\n",
      "938/938 [==============================] - 0s 396us/step - loss: 0.3809 - accuracy: 0.8371 - val_loss: 0.1653 - val_accuracy: 0.9056\n"
     ]
    },
    {
     "data": {
      "text/plain": [
       "<keras.src.callbacks.History at 0x28a962790>"
      ]
     },
     "execution_count": 25,
     "metadata": {},
     "output_type": "execute_result"
    }
   ],
   "source": [
    "#fitting the model\n",
    "modl.fit(X_train_scaled, y_train_, epochs=10, batch_size=32, validation_data=(X_valid_scaled, y_valid))\n"
   ]
  },
  {
   "cell_type": "code",
   "execution_count": 26,
   "id": "57b8109e",
   "metadata": {},
   "outputs": [
    {
     "name": "stdout",
     "output_type": "stream",
     "text": [
      "185/185 [==============================] - 0s 260us/step\n"
     ]
    }
   ],
   "source": [
    "y_pred=modl.predict(X_test_scaled)"
   ]
  },
  {
   "cell_type": "code",
   "execution_count": 27,
   "id": "39cc848c",
   "metadata": {},
   "outputs": [
    {
     "data": {
      "text/plain": [
       "array([[0.10827451],\n",
       "       [0.22107576],\n",
       "       [0.30310276],\n",
       "       ...,\n",
       "       [0.20403963],\n",
       "       [0.08902427],\n",
       "       [0.19429436]], dtype=float32)"
      ]
     },
     "execution_count": 27,
     "metadata": {},
     "output_type": "execute_result"
    }
   ],
   "source": [
    "#predicting the values\n",
    "y_pred"
   ]
  },
  {
   "cell_type": "code",
   "execution_count": 28,
   "id": "36856ded",
   "metadata": {},
   "outputs": [],
   "source": [
    "b_pred = (y_pred > 0.5).astype(int)"
   ]
  },
  {
   "cell_type": "code",
   "execution_count": 29,
   "id": "35aa580f",
   "metadata": {},
   "outputs": [
    {
     "name": "stdout",
     "output_type": "stream",
     "text": [
      "              precision    recall  f1-score   support\n",
      "\n",
      "           0       0.83      0.94      0.88      4585\n",
      "           1       0.63      0.36      0.45      1328\n",
      "\n",
      "    accuracy                           0.81      5913\n",
      "   macro avg       0.73      0.65      0.67      5913\n",
      "weighted avg       0.79      0.81      0.79      5913\n",
      "\n"
     ]
    }
   ],
   "source": [
    "#classification report\n",
    "from sklearn.metrics import classification_report\n",
    "\n",
    "print(classification_report(y_test, b_pred))"
   ]
  },
  {
   "cell_type": "code",
   "execution_count": 30,
   "id": "c096516a",
   "metadata": {},
   "outputs": [
    {
     "data": {
      "image/png": "[encoded data removed]",
      "text/plain": [
       "<Figure size 640x480 with 2 Axes>"
      ]
     },
     "metadata": {},
     "output_type": "display_data"
    }
   ],
   "source": [
    "import seaborn as sn\n",
    "#confusion matrix\n",
    "cm = confusion_matrix(y_test, b_pred)\n",
    "sn.heatmap(cm, annot=True, fmt='d',annot_kws={\"size\":15})\n",
    "plt.xlabel('Predicted', fontsize=10)\n",
    "plt.ylabel('Actual', fontsize=10);"
   ]
  },
  {
   "cell_type": "markdown",
   "id": "20f09f0c",
   "metadata": {},
   "source": [
    "### Ensemble model containing above top 3 models"
   ]
  },
  {
   "cell_type": "markdown",
   "id": "2db6477a",
   "metadata": {},
   "source": [
    "Three methods are used by ensemble models: stacking, boosting, and bagging. Several machine learning models are studied in these methods in order to produce predictions as a group. Ensemble approaches seek to improve overall performance and accuracy by utilizing the advantages of various models, offering a strong and thorough prediction strategy."
   ]
  },
  {
   "cell_type": "markdown",
   "id": "9ee6d6fc",
   "metadata": {},
   "source": [
    "Ref : https://machinelearningmastery.com/tour-of-ensemble-learning-algorithms/"
   ]
  },
  {
   "cell_type": "code",
   "execution_count": 31,
   "id": "6c0062fa",
   "metadata": {},
   "outputs": [],
   "source": [
    "#scaling\n",
    "scaler = StandardScaler()\n",
    "X_train_sc= scaler.fit_transform(X_train_sm)\n",
    "X_test_sc = scaler.transform(X_test)"
   ]
  },
  {
   "cell_type": "code",
   "execution_count": 32,
   "id": "7f909338",
   "metadata": {},
   "outputs": [],
   "source": [
    "#top3 models: RandomForest, Logistic Regression and XGBoost\n",
    "from sklearn.ensemble import RandomForestClassifier\n",
    "from sklearn.linear_model import LogisticRegression\n",
    "from sklearn.ensemble import VotingClassifier\n",
    "\n",
    "rf = RandomForestClassifier(max_depth=30, min_samples_leaf=1, min_samples_split=2, n_estimators=100)\n",
    "lr = LogisticRegression(C= 100, penalty= 'l2')\n",
    "ens_model = VotingClassifier(estimators=[\n",
    "    ('xgb', xgb),\n",
    "    ('RF', rf),\n",
    "    ('LR', lr)\n",
    "], voting='hard')\n",
    "\n",
    "rf = RandomForestClassifier(max_depth=30, min_samples_leaf=1, min_samples_split=2, n_estimators=100)\n",
    "#fitting the models\n",
    "ens_model.fit(X_train_sc, y_train_sm)\n",
    "#predicting the values\n",
    "y_pred_ensemble = ens_model.predict(X_test_sc)"
   ]
  },
  {
   "cell_type": "code",
   "execution_count": 33,
   "id": "95b86e06",
   "metadata": {},
   "outputs": [
    {
     "data": {
      "image/png": "[encoded data removed]",
      "text/plain": [
       "<Figure size 640x480 with 2 Axes>"
      ]
     },
     "metadata": {},
     "output_type": "display_data"
    }
   ],
   "source": [
    "import seaborn as sn\n",
    "#confusion matrix\n",
    "cm = confusion_matrix(y_test, y_pred_ensemble)\n",
    "sn.heatmap(cm, annot=True, fmt='d',annot_kws={\"size\":15})\n",
    "plt.xlabel('Predicted', fontsize=10)\n",
    "plt.ylabel('Actual', fontsize=10);"
   ]
  },
  {
   "cell_type": "code",
   "execution_count": 34,
   "id": "c3c73335",
   "metadata": {},
   "outputs": [
    {
     "name": "stdout",
     "output_type": "stream",
     "text": [
      "              precision    recall  f1-score   support\n",
      "\n",
      "           0       0.84      0.93      0.88      4585\n",
      "           1       0.61      0.37      0.46      1328\n",
      "\n",
      "    accuracy                           0.80      5913\n",
      "   macro avg       0.72      0.65      0.67      5913\n",
      "weighted avg       0.78      0.80      0.79      5913\n",
      "\n"
     ]
    }
   ],
   "source": [
    "from sklearn.metrics import classification_report\n",
    "\n",
    "print(classification_report(y_test, y_pred_ensemble))"
   ]
  },
  {
   "cell_type": "code",
   "execution_count": null,
   "id": "28e053e9",
   "metadata": {},
   "outputs": [],
   "source": []
  }
 ],
 "metadata": {
  "kernelspec": {
   "display_name": "Python 3 (ipykernel)",
   "language": "python",
   "name": "python3"
  },
  "language_info": {
   "codemirror_mode": {
    "name": "ipython",
    "version": 3
   },
   "file_extension": ".py",
   "mimetype": "text/x-python",
   "name": "python",
   "nbconvert_exporter": "python",
   "pygments_lexer": "ipython3",
   "version": "3.11.4"
  }
 },
 "nbformat": 4,
 "nbformat_minor": 5
}
